{
 "cells": [
  {
   "cell_type": "markdown",
   "metadata": {},
   "source": [
    "## Ternary Operator"
   ]
  },
  {
   "cell_type": "code",
   "execution_count": 1,
   "metadata": {},
   "outputs": [
    {
     "data": {
      "text/plain": [
       "True"
      ]
     },
     "execution_count": 1,
     "metadata": {},
     "output_type": "execute_result"
    }
   ],
   "source": [
    "True if 3>2 else False"
   ]
  },
  {
   "cell_type": "code",
   "execution_count": 2,
   "metadata": {},
   "outputs": [
    {
     "data": {
      "text/plain": [
       "False"
      ]
     },
     "execution_count": 2,
     "metadata": {},
     "output_type": "execute_result"
    }
   ],
   "source": [
    "True if 3<2 else False"
   ]
  },
  {
   "cell_type": "code",
   "execution_count": 3,
   "metadata": {},
   "outputs": [],
   "source": [
    "if 3>2:\n",
    "    True\n",
    "else:\n",
    "    False"
   ]
  },
  {
   "cell_type": "code",
   "execution_count": 6,
   "metadata": {},
   "outputs": [
    {
     "data": {
      "text/plain": [
       "'c'"
      ]
     },
     "execution_count": 6,
     "metadata": {},
     "output_type": "execute_result"
    }
   ],
   "source": [
    "'a' if 3<2 else 'b' if 4<3 else 'c'"
   ]
  },
  {
   "cell_type": "code",
   "execution_count": 7,
   "metadata": {},
   "outputs": [
    {
     "ename": "SyntaxError",
     "evalue": "cannot assign to conditional expression (<ipython-input-7-961001a8bb0b>, line 1)",
     "output_type": "error",
     "traceback": [
      "\u001b[0;36m  File \u001b[0;32m\"<ipython-input-7-961001a8bb0b>\"\u001b[0;36m, line \u001b[0;32m1\u001b[0m\n\u001b[0;31m    result='pass' if 3>2 else result='failed'\u001b[0m\n\u001b[0m           ^\u001b[0m\n\u001b[0;31mSyntaxError\u001b[0m\u001b[0;31m:\u001b[0m cannot assign to conditional expression\n"
     ]
    }
   ],
   "source": [
    "result='pass' if 3+1>2+1 else result='failed'"
   ]
  },
  {
   "cell_type": "markdown",
   "metadata": {},
   "source": [
    " ## Practice(1)\n",
    "\n",
    "사용자가 입력한 요일('월'\\~'일' or '월요일'~'일요일')을\n",
    "- 평일일 경우, \"평일이네요ㅜㅜ\"\n",
    "- 주말일 경우, \"주말입니다^^\"\n",
    "- 잘못 입력한 경우, \"요일을 입력하세요\"\n",
    "\n",
    "을 출력하도록 Conditional Statements 와 Conditional Expressions로 각각 구현하세요"
   ]
  },
  {
   "cell_type": "code",
   "execution_count": 24,
   "metadata": {},
   "outputs": [
    {
     "name": "stdout",
     "output_type": "stream",
     "text": [
      "알고 싶은 요일을 입력하세요: 일요일\n",
      "일요일 <class 'str'>\n"
     ]
    }
   ],
   "source": [
    "user_day = input('알고 싶은 요일을 입력하세요: ')\n",
    "print(user_day, type(user_day))"
   ]
  },
  {
   "cell_type": "code",
   "execution_count": 25,
   "metadata": {},
   "outputs": [
    {
     "name": "stdout",
     "output_type": "stream",
     "text": [
      "알고 싶은 요일을 입력하세요: 일요일\n",
      "요일을 입력하시라구요\n"
     ]
    }
   ],
   "source": [
    "user_day = input('알고 싶은 요일을 입력하세요: ')\n",
    "weekday = ('월','화','수','목','금')\n",
    "weekend = ('토','일')\n",
    "\n",
    "#1 Conditional Statements\n",
    "if user_day in weekday:\n",
    "    print(\"평일이네요 ㅠㅠ\")\n",
    "elif user_day in weekend:\n",
    "    print(\"주말입니다^^\")\n",
    "else:\n",
    "    print(\"요일을 입력하시라구요\")\n"
   ]
  },
  {
   "cell_type": "code",
   "execution_count": 23,
   "metadata": {},
   "outputs": [
    {
     "name": "stdout",
     "output_type": "stream",
     "text": [
      "알고 싶은 요일을 입력하세요: 나\n"
     ]
    },
    {
     "data": {
      "text/plain": [
       "'요일을 입력하시라구요'"
      ]
     },
     "execution_count": 23,
     "metadata": {},
     "output_type": "execute_result"
    }
   ],
   "source": [
    "# Conditional Expressions\n",
    "\n",
    "user_day = input('알고 싶은 요일을 입력하세요: ')\n",
    "weekday = ('월','화','수','목','금')\n",
    "weekend = ('토','일')\n",
    "\n",
    "'평일입니다ㅠㅠ' if user_day in weekday else \\\n",
    "'주말입니다^^' if user_day in weekend else \\\n",
    "'요일을 입력하시라구요'"
   ]
  },
  {
   "cell_type": "code",
   "execution_count": 33,
   "metadata": {},
   "outputs": [
    {
     "name": "stdout",
     "output_type": "stream",
     "text": [
      "알고 싶은 요일을 입력하세요: 일단 나는 지금 요일을 알고싶지 않아\n",
      "주말입니다^^\n"
     ]
    }
   ],
   "source": [
    "user_day = input('알고 싶은 요일을 입력하세요: ')\n",
    "user_day = user_day[0]\n",
    "weekday = ('월','화','수','목','금')\n",
    "weekend = ('토','일')\n",
    "\n",
    "#1 Conditional Statements\n",
    "if user_day in weekday:\n",
    "    print(\"평일이네요 ㅠㅠ\")\n",
    "elif user_day in weekend:\n",
    "    print(\"주말입니다^^\")\n",
    "else:\n",
    "    print(\"요일을 입력하시라구요\")\n"
   ]
  },
  {
   "cell_type": "markdown",
   "metadata": {},
   "source": [
    "## Iteration(Loop)\n",
    "\n",
    "### for\n",
    "\n",
    "### while"
   ]
  },
  {
   "cell_type": "code",
   "execution_count": 34,
   "metadata": {},
   "outputs": [
    {
     "name": "stdout",
     "output_type": "stream",
     "text": [
      "1\n",
      "2\n",
      "3\n",
      "4\n",
      "5\n",
      "6\n",
      "7\n",
      "8\n",
      "9\n",
      "10\n"
     ]
    }
   ],
   "source": [
    "for i in range(1,10+1):\n",
    "    print(i)"
   ]
  },
  {
   "cell_type": "code",
   "execution_count": 36,
   "metadata": {},
   "outputs": [
    {
     "data": {
      "text/plain": [
       "[1, 2, 3, 4, 5, 6, 7, 8, 9, 10]"
      ]
     },
     "execution_count": 36,
     "metadata": {},
     "output_type": "execute_result"
    }
   ],
   "source": [
    "list(range(1,10+1))"
   ]
  },
  {
   "cell_type": "code",
   "execution_count": 37,
   "metadata": {},
   "outputs": [
    {
     "data": {
      "text/plain": [
       "10"
      ]
     },
     "execution_count": 37,
     "metadata": {},
     "output_type": "execute_result"
    }
   ],
   "source": [
    "i"
   ]
  },
  {
   "cell_type": "code",
   "execution_count": 38,
   "metadata": {},
   "outputs": [
    {
     "name": "stdout",
     "output_type": "stream",
     "text": [
      "p for python\n",
      "y for python\n",
      "t for python\n",
      "h for python\n",
      "o for python\n",
      "n for python\n"
     ]
    }
   ],
   "source": [
    "for s in \"python\":\n",
    "    print('{} for python'.format(s))"
   ]
  },
  {
   "cell_type": "code",
   "execution_count": 39,
   "metadata": {},
   "outputs": [
    {
     "name": "stdout",
     "output_type": "stream",
     "text": [
      "There is cat in cage.\n",
      "There is dog in cage.\n",
      "There is aligator in cage.\n",
      "There is tiger in cage.\n",
      "There is lion in cage.\n"
     ]
    }
   ],
   "source": [
    "animals = ['cat', 'dog', 'aligator', 'tiger', 'lion']\n",
    "for animal in animals:\n",
    "    print('There is {} in cage.'.format(animal))"
   ]
  },
  {
   "cell_type": "code",
   "execution_count": 40,
   "metadata": {},
   "outputs": [
    {
     "name": "stdout",
     "output_type": "stream",
     "text": [
      "5050\n"
     ]
    }
   ],
   "source": [
    "result=0\n",
    "for i in range(1,100+1):\n",
    "    #result = result + i\n",
    "    result += i\n",
    "    \n",
    "print(result)"
   ]
  },
  {
   "cell_type": "code",
   "execution_count": 43,
   "metadata": {},
   "outputs": [
    {
     "name": "stdout",
     "output_type": "stream",
     "text": [
      "5050.0\n"
     ]
    }
   ],
   "source": [
    "number = 100\n",
    "print(number*(number+1)/2)"
   ]
  },
  {
   "cell_type": "markdown",
   "metadata": {},
   "source": [
    "## while"
   ]
  },
  {
   "cell_type": "code",
   "execution_count": null,
   "metadata": {},
   "outputs": [],
   "source": [
    "while True:\n",
    "    print('hello')\n",
    "# Don't try this at home.\n",
    "# Infinite loop"
   ]
  },
  {
   "cell_type": "code",
   "execution_count": 47,
   "metadata": {},
   "outputs": [
    {
     "name": "stdout",
     "output_type": "stream",
     "text": [
      "What is your name? John Doe\n",
      "Hi, John Doe\n",
      "What is your name? Fast Campus\n",
      "Hi, Fast Campus\n",
      "What is your name? Foo bar\n",
      "Hi, Foo bar\n",
      "What is your name? quit\n",
      "Hi, quit\n",
      "What is your name? I want to leave\n",
      "Hi, I want to leave\n",
      "What is your name? oh plz\n",
      "Hi, oh plz\n",
      "What is your name? exit\n",
      "Hi, exit\n"
     ]
    }
   ],
   "source": [
    "name=''\n",
    "while name!='exit':\n",
    "    name = input('What is your name? ')\n",
    "    print('Hi, {}'.format(name))"
   ]
  },
  {
   "cell_type": "code",
   "execution_count": 49,
   "metadata": {},
   "outputs": [
    {
     "name": "stdout",
     "output_type": "stream",
     "text": [
      "Type anything: hello\n",
      "hello\n",
      "Type anything: Wow\n",
      "Wow\n",
      "Type anything: echo\n",
      "echo\n",
      "Type anything: Awesome\n",
      "Awesome\n",
      "Type anything: exit\n"
     ]
    }
   ],
   "source": [
    "while True:\n",
    "    message = input('Type anything: ')\n",
    "    if message == 'exit':\n",
    "        break\n",
    "    print(message)"
   ]
  },
  {
   "cell_type": "code",
   "execution_count": 57,
   "metadata": {},
   "outputs": [
    {
     "name": "stdout",
     "output_type": "stream",
     "text": [
      "Stop at  19\n",
      "1\n",
      "skip for now\n",
      "2\n",
      "3\n",
      "skip for now\n",
      "4\n",
      "5\n",
      "skip for now\n",
      "6\n",
      "7\n",
      "skip for now\n",
      "8\n",
      "9\n",
      "skip for now\n",
      "10\n",
      "11\n",
      "skip for now\n",
      "12\n",
      "13\n",
      "skip for now\n",
      "14\n",
      "15\n",
      "skip for now\n",
      "16\n",
      "17\n",
      "skip for now\n",
      "18\n"
     ]
    }
   ],
   "source": [
    "# break: 해당 구문을 끝낼때\n",
    "# continue: 해당 cycle을 끝낼때\n",
    "import random\n",
    "\n",
    "magic_number = random.randint(1,20)\n",
    "print(\"Stop at \", magic_number)\n",
    "for i in range(1,100+1):\n",
    "    if i == magic_number:\n",
    "        break\n",
    "    elif i%2==0:\n",
    "        print('skip for now')\n",
    "        #continue\n",
    "    print(i)"
   ]
  },
  {
   "cell_type": "markdown",
   "metadata": {},
   "source": [
    "## Practice(2)\n",
    "\n",
    "다음 문제를 해결하세요.\n",
    "\n",
    "1. 사용자가 입력한 임의의 정수(2~100)에 대해 팩토리얼 연산을 수행하세요.\n",
    "\n",
    "ex) $3! = 3*2*1$\n",
    "\n",
    "2. 다음 2차원 list에 대해 각 요소의 합을 구하세요.\n",
    "\n",
    "```python\n",
    "lists_in_list = [\n",
    "\t[1, 0, 7, 0],\n",
    "\t[0, 2, 0, 9],\n",
    "\t[0, 6, 3, 7],\n",
    "\t[4, 0, 5, 1],\n",
    "]\n",
    "```"
   ]
  },
  {
   "cell_type": "code",
   "execution_count": 58,
   "metadata": {},
   "outputs": [
    {
     "name": "stdout",
     "output_type": "stream",
     "text": [
      "Enter just one number(2-100): 10\n",
      "10 <class 'int'>\n"
     ]
    }
   ],
   "source": [
    "user_num = int(input('Enter just one number(2-100): '))\n",
    "print(user_num, type(user_num))"
   ]
  },
  {
   "cell_type": "code",
   "execution_count": 59,
   "metadata": {},
   "outputs": [
    {
     "name": "stdout",
     "output_type": "stream",
     "text": [
      "Enter just one number(2-100): 4\n",
      "4 <class 'int'>\n",
      "1 1\n",
      "2 2\n",
      "3 6\n",
      "4 24\n",
      "24\n"
     ]
    }
   ],
   "source": [
    "user_num = int(input('Enter just one number(2-100): '))\n",
    "print(user_num, type(user_num))\n",
    "\n",
    "result = 1\n",
    "for i in range(1, user_num+1):\n",
    "    result = result*i\n",
    "    print(i, result)\n",
    "print(result)"
   ]
  },
  {
   "cell_type": "code",
   "execution_count": 60,
   "metadata": {},
   "outputs": [],
   "source": [
    "lists_in_list = [\n",
    "    [1, 0, 7, 0],\n",
    "    [0, 2, 0, 9],\n",
    "    [0, 6, 3, 7],\n",
    "    [4, 0, 5, 1],\n",
    "]"
   ]
  },
  {
   "cell_type": "code",
   "execution_count": 61,
   "metadata": {},
   "outputs": [
    {
     "name": "stdout",
     "output_type": "stream",
     "text": [
      "[1, 0, 7, 0]\n",
      "[0, 2, 0, 9]\n",
      "[0, 6, 3, 7]\n",
      "[4, 0, 5, 1]\n"
     ]
    }
   ],
   "source": [
    "for list_ in lists_in_list:\n",
    "    print(list_)"
   ]
  },
  {
   "cell_type": "code",
   "execution_count": 63,
   "metadata": {},
   "outputs": [
    {
     "name": "stdout",
     "output_type": "stream",
     "text": [
      "8\n",
      "11\n",
      "16\n",
      "10\n",
      "45\n"
     ]
    }
   ],
   "source": [
    "final_result = 0\n",
    "for list_ in lists_in_list:\n",
    "    result = 0\n",
    "    for item in list_:\n",
    "        result += item\n",
    "    print(result)\n",
    "    final_result += result\n",
    "print(final_result)"
   ]
  },
  {
   "cell_type": "code",
   "execution_count": 64,
   "metadata": {},
   "outputs": [],
   "source": [
    "# 2\n",
    "\n",
    "lists_in_list = [\n",
    "    [1, 0, 7, 0],\n",
    "    [0, 2, 0, 9],\n",
    "    [0, 6, 3, 7],\n",
    "    [4, 0, 5, 1],\n",
    "]"
   ]
  },
  {
   "cell_type": "code",
   "execution_count": 66,
   "metadata": {},
   "outputs": [
    {
     "name": "stdout",
     "output_type": "stream",
     "text": [
      "[1, 0, 7, 0]\n",
      "[0, 2, 0, 9]\n",
      "[0, 6, 3, 7]\n",
      "[4, 0, 5, 1]\n"
     ]
    }
   ],
   "source": [
    "for list_ in lists_in_list:\n",
    "    print(list_)"
   ]
  },
  {
   "cell_type": "code",
   "execution_count": 72,
   "metadata": {},
   "outputs": [
    {
     "name": "stdout",
     "output_type": "stream",
     "text": [
      "8\n",
      "19\n",
      "35\n",
      "45\n"
     ]
    }
   ],
   "source": [
    "result = 0\n",
    "for list_ in lists_in_list:\n",
    "    result += sum(list_)\n",
    "    print(result)"
   ]
  },
  {
   "cell_type": "code",
   "execution_count": 73,
   "metadata": {},
   "outputs": [
    {
     "data": {
      "text/plain": [
       "45"
      ]
     },
     "execution_count": 73,
     "metadata": {},
     "output_type": "execute_result"
    }
   ],
   "source": [
    "result"
   ]
  },
  {
   "cell_type": "markdown",
   "metadata": {},
   "source": [
    "## Fizzbuzz\n",
    "\n",
    "1부터 100까지 **반복하면서,**\n",
    "\n",
    "3의 배수 = \"Fizz\"\n",
    "\n",
    "5의 배수 = \"Buzz\"\n",
    "\n",
    "15의 배수 = \"FizzBuzz\"\n",
    "\n",
    "나머지 = 그 숫자"
   ]
  },
  {
   "cell_type": "code",
   "execution_count": 75,
   "metadata": {},
   "outputs": [
    {
     "name": "stdout",
     "output_type": "stream",
     "text": [
      "1\n",
      "2\n",
      "3\n",
      "4\n",
      "5\n",
      "6\n",
      "7\n",
      "8\n",
      "9\n",
      "10\n",
      "11\n",
      "12\n",
      "13\n",
      "14\n",
      "15\n",
      "16\n",
      "17\n",
      "18\n",
      "19\n",
      "20\n",
      "21\n",
      "22\n",
      "23\n",
      "24\n",
      "25\n",
      "26\n",
      "27\n",
      "28\n",
      "29\n",
      "30\n"
     ]
    }
   ],
   "source": [
    "for i in range(1,30+1):\n",
    "    print(i)"
   ]
  },
  {
   "cell_type": "code",
   "execution_count": 76,
   "metadata": {},
   "outputs": [
    {
     "name": "stdout",
     "output_type": "stream",
     "text": [
      "1\n",
      "2\n",
      "Fizz\n",
      "4\n",
      "5\n",
      "Fizz\n",
      "7\n",
      "8\n",
      "Fizz\n",
      "10\n",
      "11\n",
      "Fizz\n",
      "13\n",
      "14\n",
      "Fizz\n",
      "16\n",
      "17\n",
      "Fizz\n",
      "19\n",
      "20\n",
      "Fizz\n",
      "22\n",
      "23\n",
      "Fizz\n",
      "25\n",
      "26\n",
      "Fizz\n",
      "28\n",
      "29\n",
      "Fizz\n"
     ]
    }
   ],
   "source": [
    "for i in range(1,30+1):\n",
    "    if i%3==0:\n",
    "        print('Fizz')\n",
    "    else:\n",
    "        print(i)"
   ]
  },
  {
   "cell_type": "code",
   "execution_count": 77,
   "metadata": {},
   "outputs": [
    {
     "name": "stdout",
     "output_type": "stream",
     "text": [
      "1\n",
      "2\n",
      "Fizz\n",
      "4\n",
      "Buzz\n",
      "Fizz\n",
      "7\n",
      "8\n",
      "Fizz\n",
      "Buzz\n",
      "11\n",
      "Fizz\n",
      "13\n",
      "14\n",
      "Fizz\n",
      "16\n",
      "17\n",
      "Fizz\n",
      "19\n",
      "Buzz\n",
      "Fizz\n",
      "22\n",
      "23\n",
      "Fizz\n",
      "Buzz\n",
      "26\n",
      "Fizz\n",
      "28\n",
      "29\n",
      "Fizz\n"
     ]
    }
   ],
   "source": [
    "for i in range(1,30+1):\n",
    "    if i%3==0:\n",
    "        print('Fizz')\n",
    "    elif i%5==0:\n",
    "        print('Buzz')\n",
    "    else:\n",
    "        print(i)"
   ]
  },
  {
   "cell_type": "code",
   "execution_count": 79,
   "metadata": {},
   "outputs": [
    {
     "name": "stdout",
     "output_type": "stream",
     "text": [
      "1\n",
      "2\n",
      "Fizz\n",
      "4\n",
      "Buzz\n",
      "Fizz\n",
      "7\n",
      "8\n",
      "Fizz\n",
      "Buzz\n",
      "11\n",
      "Fizz\n",
      "13\n",
      "14\n",
      "FIZZBUZZ\n",
      "16\n",
      "17\n",
      "Fizz\n",
      "19\n",
      "Buzz\n",
      "Fizz\n",
      "22\n",
      "23\n",
      "Fizz\n",
      "Buzz\n",
      "26\n",
      "Fizz\n",
      "28\n",
      "29\n",
      "FIZZBUZZ\n"
     ]
    }
   ],
   "source": [
    "for i in range(1,30+1):\n",
    "    if i%15==0:\n",
    "        print('FIZZBUZZ')\n",
    "    elif i%5==0:\n",
    "        print('Buzz')\n",
    "    elif i%3==0:\n",
    "        print('Fizz')\n",
    "    else:\n",
    "        print(i)"
   ]
  },
  {
   "cell_type": "code",
   "execution_count": 80,
   "metadata": {},
   "outputs": [
    {
     "name": "stdout",
     "output_type": "stream",
     "text": [
      "1\n",
      "2\n",
      "Fizz\n",
      "4\n",
      "Buzz\n",
      "Fizz\n",
      "7\n",
      "8\n",
      "Fizz\n",
      "Buzz\n",
      "11\n",
      "Fizz\n",
      "13\n",
      "14\n",
      "FIZZBUZZ\n",
      "16\n",
      "17\n",
      "Fizz\n",
      "19\n",
      "Buzz\n",
      "Fizz\n",
      "22\n",
      "23\n",
      "Fizz\n",
      "Buzz\n",
      "26\n",
      "Fizz\n",
      "28\n",
      "29\n",
      "FIZZBUZZ\n"
     ]
    }
   ],
   "source": [
    "for i in range(1,30+1):\n",
    "    if i%15==0:\n",
    "        print('FIZZBUZZ')\n",
    "    elif i%3==0:\n",
    "        print('Fizz')\n",
    "    elif i%5==0:\n",
    "        print('Buzz')\n",
    "    else:\n",
    "        print(i)"
   ]
  },
  {
   "cell_type": "code",
   "execution_count": 81,
   "metadata": {},
   "outputs": [
    {
     "name": "stdout",
     "output_type": "stream",
     "text": [
      "1\n",
      "2\n",
      "Fizz\n",
      "4\n",
      "Buzz\n",
      "Fizz\n",
      "7\n",
      "8\n",
      "Fizz\n",
      "Buzz\n",
      "11\n",
      "Fizz\n",
      "13\n",
      "14\n",
      "FIZZBUZZ\n",
      "16\n",
      "17\n",
      "Fizz\n",
      "19\n",
      "Buzz\n",
      "Fizz\n",
      "22\n",
      "23\n",
      "Fizz\n",
      "Buzz\n",
      "26\n",
      "Fizz\n",
      "28\n",
      "29\n",
      "FIZZBUZZ\n"
     ]
    }
   ],
   "source": [
    "for i in range(1,30+1):\n",
    "    if i%3==0 and i%5==0:\n",
    "        print('FIZZBUZZ')\n",
    "    elif i%3==0:\n",
    "        print('Fizz')\n",
    "    elif i%5==0:\n",
    "        print('Buzz')\n",
    "    else:\n",
    "        print(i)"
   ]
  },
  {
   "cell_type": "code",
   "execution_count": 85,
   "metadata": {},
   "outputs": [
    {
     "name": "stdout",
     "output_type": "stream",
     "text": [
      "1\n",
      "2\n",
      "fizz\n",
      "4\n",
      "buzz\n",
      "fizz\n",
      "7\n",
      "8\n",
      "fizz\n",
      "buzz\n",
      "11\n",
      "fizz\n",
      "13\n",
      "14\n",
      "fizzbuzz\n",
      "16\n",
      "17\n",
      "fizz\n",
      "19\n",
      "buzz\n",
      "fizz\n",
      "22\n",
      "23\n",
      "fizz\n",
      "buzz\n",
      "26\n",
      "fizz\n",
      "28\n",
      "29\n",
      "fizzbuzz\n"
     ]
    }
   ],
   "source": [
    "for i in range(1,30+1):\n",
    "    if i%3==0 or i%5==0:\n",
    "        print('fizz'*(i%3==0) + 'buzz'*(i%5==0))\n",
    "    else:\n",
    "        print(i)"
   ]
  },
  {
   "cell_type": "code",
   "execution_count": 91,
   "metadata": {},
   "outputs": [
    {
     "data": {
      "text/plain": [
       "'helloworld'"
      ]
     },
     "execution_count": 91,
     "metadata": {},
     "output_type": "execute_result"
    }
   ],
   "source": [
    "\"hello\"*True + \"world\"*True"
   ]
  },
  {
   "cell_type": "code",
   "execution_count": 88,
   "metadata": {},
   "outputs": [
    {
     "data": {
      "text/plain": [
       "''"
      ]
     },
     "execution_count": 88,
     "metadata": {},
     "output_type": "execute_result"
    }
   ],
   "source": [
    "\"hello\"*False"
   ]
  },
  {
   "cell_type": "code",
   "execution_count": 107,
   "metadata": {},
   "outputs": [
    {
     "name": "stdout",
     "output_type": "stream",
     "text": [
      "DEBUG: 91\n",
      "Guess the number(1-100): 10\n",
      "10 <class 'int'>\n",
      "Wrong! The answer was 91.\n"
     ]
    }
   ],
   "source": [
    "import random\n",
    "\n",
    "\n",
    "answer = random.randint(1,100)\n",
    "print('DEBUG: {}'.format(answer))\n",
    "\n",
    "guess = int(input('Guess the number(1-100): '))\n",
    "print(guess, type(guess))\n",
    "\n",
    "if guess-answer==0:\n",
    "    print('Correct!')\n",
    "else:\n",
    "    print('Wrong! The answer was {}.'.format(answer))"
   ]
  },
  {
   "cell_type": "code",
   "execution_count": 111,
   "metadata": {},
   "outputs": [
    {
     "name": "stdout",
     "output_type": "stream",
     "text": [
      "DEBUG: 21\n",
      "Guess the number(1-100): 99\n",
      "99 <class 'int'>\n",
      "Down!\n",
      "Wrong! The answer was 21.\n",
      "Guess the number(1-100): 1\n",
      "1 <class 'int'>\n",
      "Up!\n",
      "Wrong! The answer was 21.\n",
      "Guess the number(1-100): 21\n",
      "21 <class 'int'>\n",
      "Correct!\n"
     ]
    }
   ],
   "source": [
    "import random\n",
    "\n",
    "\n",
    "answer = random.randint(1,100)\n",
    "print('DEBUG: {}'.format(answer))\n",
    "\n",
    "\n",
    "for _ in range(3):\n",
    "    guess = int(input('Guess the number(1-100): '))\n",
    "    print(guess, type(guess))\n",
    "\n",
    "    if guess-answer==0:\n",
    "        print('Correct!')\n",
    "        break\n",
    "    elif guess<answer:\n",
    "        print('Up!')\n",
    "    elif guess>answer:\n",
    "        print('Down!')\n",
    "        \n",
    "        \n",
    "    print('Wrong! The answer was {}.'.format(answer))"
   ]
  },
  {
   "cell_type": "code",
   "execution_count": 113,
   "metadata": {},
   "outputs": [
    {
     "name": "stdout",
     "output_type": "stream",
     "text": [
      "DEBUG: 51\n",
      "Guess the number(1-100): 1\n",
      "1 <class 'int'>\n",
      "Up! You have 2 life(s).\n",
      "Guess the number(1-100): 100\n",
      "100 <class 'int'>\n",
      "Down! You have 1 life(s).\n",
      "Guess the number(1-100): 1\n",
      "1 <class 'int'>\n",
      "Up! You have 0 life(s).\n",
      "Wrong! The answer was 51.\n"
     ]
    }
   ],
   "source": [
    "import random\n",
    "\n",
    "\n",
    "answer = random.randint(1,100)\n",
    "print('DEBUG: {}'.format(answer))\n",
    "chance = 3\n",
    "\n",
    "while chance > 0:\n",
    "    guess = int(input('Guess the number(1-100): '))\n",
    "    print(guess, type(guess))\n",
    "\n",
    "    if guess-answer==0:\n",
    "        print('Correct!')\n",
    "        break\n",
    "    elif guess<answer:\n",
    "        msg = 'Up!'\n",
    "    elif guess>answer:\n",
    "        msg = 'Down!'\n",
    "    chance-=1\n",
    "    print('{} You have {} life(s).'.format(msg, chance))\n",
    "    \n",
    "    if chance ==0:\n",
    "        print('You now dead! The answer was {}.'.format(answer))"
   ]
  },
  {
   "cell_type": "code",
   "execution_count": null,
   "metadata": {},
   "outputs": [],
   "source": [
    "import random\n",
    "\n",
    "\n",
    "answer = random.randint(1,100)\n",
    "print('DEBUG: {}'.format(answer))\n",
    "chance = int(input('Choose level(10-easy 1-hell): '))\n",
    "\n",
    "\n",
    "while chance > 0:\n",
    "    guess = int(input('Guess the number(1-100): '))\n",
    "    print(guess, type(guess))\n",
    "\n",
    "    if guess-answer==0:\n",
    "        print('Correct!')\n",
    "        break\n",
    "    elif guess<answer:\n",
    "        msg = 'Up!'\n",
    "    elif guess>answer:\n",
    "        msg = 'Down!'\n",
    "    chance-=1\n",
    "    print('{} You have {} life(s).'.format(msg, chance))\n",
    "    \n",
    "    if chance ==0:\n",
    "        print('You now dead! The answer was {}.'.format(answer))"
   ]
  },
  {
   "cell_type": "markdown",
   "metadata": {},
   "source": [
    "# 숙제 1\n",
    "\n",
    "## Monty Hall Problem\n",
    "\n",
    "- 문 고르는 코드"
   ]
  },
  {
   "cell_type": "code",
   "execution_count": 116,
   "metadata": {},
   "outputs": [
    {
     "data": {
      "text/plain": [
       "0"
      ]
     },
     "execution_count": 116,
     "metadata": {},
     "output_type": "execute_result"
    }
   ],
   "source": [
    "import random\n",
    "\n",
    "doors = [0,0,1]\n",
    "random.choice(doors)"
   ]
  },
  {
   "cell_type": "code",
   "execution_count": null,
   "metadata": {},
   "outputs": [],
   "source": []
  },
  {
   "cell_type": "markdown",
   "metadata": {},
   "source": [
    "# 숙제 2\n",
    "\n",
    "## Ethiopian Multiplication 완성하기\n",
    "\n",
    "reference: https://en.wikipedia.org/wiki/Ancient_Egyptian_multiplication"
   ]
  },
  {
   "cell_type": "code",
   "execution_count": null,
   "metadata": {},
   "outputs": [],
   "source": []
  }
 ],
 "metadata": {
  "kernelspec": {
   "display_name": "Python 3",
   "language": "python",
   "name": "python3"
  },
  "language_info": {
   "codemirror_mode": {
    "name": "ipython",
    "version": 3
   },
   "file_extension": ".py",
   "mimetype": "text/x-python",
   "name": "python",
   "nbconvert_exporter": "python",
   "pygments_lexer": "ipython3",
   "version": "3.9.0"
  }
 },
 "nbformat": 4,
 "nbformat_minor": 4
}
