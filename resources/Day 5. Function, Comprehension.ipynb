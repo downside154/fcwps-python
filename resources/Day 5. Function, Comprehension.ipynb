{
 "cells": [
  {
   "cell_type": "markdown",
   "metadata": {},
   "source": [
    "## Ethiopian Multiplication\n",
    "\n",
    "- example input: 5 4\n",
    "\n",
    "- example output: 20\n",
    "\n",
    "```text\n",
    "5 4 keep\n",
    "2 8 -\n",
    "1 16 keep\n",
    "```"
   ]
  },
  {
   "cell_type": "code",
   "execution_count": 5,
   "metadata": {},
   "outputs": [
    {
     "name": "stdout",
     "output_type": "stream",
     "text": [
      "Submit two numbers you want to know with whitespace: 12 5\n",
      "12 <class 'int'> 5 <class 'int'>\n"
     ]
    }
   ],
   "source": [
    "user_string = input(\"Submit two numbers you want to know with whitespace: \")\n",
    "user_input_list = user_string.split()\n",
    "num1 = int(user_input_list[0])\n",
    "num2 = int(user_input_list[1])"
   ]
  },
  {
   "cell_type": "code",
   "execution_count": 6,
   "metadata": {},
   "outputs": [
    {
     "name": "stdout",
     "output_type": "stream",
     "text": [
      "num1   , num2   , etc\n",
      "     12,       5, Pass\n",
      "      6,      10, Pass\n",
      "      3,      20, Keep\n",
      "      1,      40, Keep\n",
      "60\n"
     ]
    }
   ],
   "source": [
    "result = 0\n",
    "print('{:7}, {:7}, etc'.format('num1', 'num2'))\n",
    "while num1>0:\n",
    "    if num1%2==0:\n",
    "        print('{:7}, {:7}, Pass'.format(num1, num2))\n",
    "    else:\n",
    "        print('{:7}, {:7}, Keep'.format(num1, num2))\n",
    "        result += num2\n",
    "    num1 = num1//2\n",
    "    num2 = num2*2\n",
    "print(result)"
   ]
  },
  {
   "cell_type": "code",
   "execution_count": 12,
   "metadata": {},
   "outputs": [
    {
     "name": "stdout",
     "output_type": "stream",
     "text": [
      "Submit two numbers you want to know with whitespace: 14 6\n",
      "num1   , num2   , etc\n",
      "     14,       6, Pass\n",
      "      7,      12, Keep\n",
      "      3,      24, Keep\n",
      "      1,      48, Keep\n",
      "The result is 84\n"
     ]
    }
   ],
   "source": [
    "user_string = input(\"Submit two numbers you want to know with whitespace: \")\n",
    "user_input_list = user_string.split()\n",
    "num1 = int(user_input_list[0])\n",
    "num2 = int(user_input_list[1])\n",
    "\n",
    "result = 0\n",
    "print('{:7}, {:7}, etc'.format('num1', 'num2'))\n",
    "while num1>0:\n",
    "    if num1%2==0:\n",
    "        print('{:7}, {:7}, Pass'.format(num1, num2))\n",
    "    else:\n",
    "        print('{:7}, {:7}, Keep'.format(num1, num2))\n",
    "        result += num2\n",
    "    num1 = num1//2\n",
    "    num2 = num2*2\n",
    "    \n",
    "print(\"The result is {}\".format(result))"
   ]
  },
  {
   "cell_type": "code",
   "execution_count": 8,
   "metadata": {},
   "outputs": [
    {
     "data": {
      "text/plain": [
       "60"
      ]
     },
     "execution_count": 8,
     "metadata": {},
     "output_type": "execute_result"
    }
   ],
   "source": [
    "12 * 5"
   ]
  },
  {
   "cell_type": "code",
   "execution_count": null,
   "metadata": {},
   "outputs": [],
   "source": [
    "num1 = num1 // 2 and num2 * 2"
   ]
  },
  {
   "cell_type": "code",
   "execution_count": 10,
   "metadata": {},
   "outputs": [
    {
     "data": {
      "text/plain": [
       "True"
      ]
     },
     "execution_count": 10,
     "metadata": {},
     "output_type": "execute_result"
    }
   ],
   "source": [
    "True and True"
   ]
  },
  {
   "cell_type": "code",
   "execution_count": 11,
   "metadata": {},
   "outputs": [
    {
     "data": {
      "text/plain": [
       "False"
      ]
     },
     "execution_count": 11,
     "metadata": {},
     "output_type": "execute_result"
    }
   ],
   "source": [
    "True and False"
   ]
  },
  {
   "cell_type": "markdown",
   "metadata": {},
   "source": [
    "## Monty Hall simulation"
   ]
  },
  {
   "cell_type": "code",
   "execution_count": 33,
   "metadata": {},
   "outputs": [
    {
     "name": "stdout",
     "output_type": "stream",
     "text": [
      "How many times do you want? 10000\n",
      "stay: 0.3353, switch: 0.6647 for 10000th trial\n"
     ]
    }
   ],
   "source": [
    "import random\n",
    "\n",
    "\n",
    "trial = int(input(\"How many times do you want? \"))\n",
    "stay = 0\n",
    "switch = 0\n",
    "for _ in range(trial):\n",
    "    # goats: 0, sportcar: 1\n",
    "    doors = [0,0,1]\n",
    "    random.shuffle(doors)\n",
    "    #print(doors)\n",
    "    users_choice = doors.pop()\n",
    "    #print(users_choice, doors)\n",
    "    doors.remove(0)\n",
    "    if users_choice == 1:\n",
    "        stay += 1\n",
    "    else:\n",
    "        switch += 1\n",
    "print(\"stay: {}, switch: {} for {}th trial\".format(stay/trial,\n",
    "                                                   switch/trial,\n",
    "                                                   trial))"
   ]
  },
  {
   "cell_type": "code",
   "execution_count": 39,
   "metadata": {},
   "outputs": [
    {
     "data": {
      "text/plain": [
       "1"
      ]
     },
     "execution_count": 39,
     "metadata": {},
     "output_type": "execute_result"
    }
   ],
   "source": [
    "random.choice([0,0,1])"
   ]
  },
  {
   "cell_type": "markdown",
   "metadata": {},
   "source": [
    "## Function"
   ]
  },
  {
   "cell_type": "code",
   "execution_count": null,
   "metadata": {},
   "outputs": [],
   "source": [
    "if condition:\n",
    "    pass\n",
    "for i in range():\n",
    "    continue"
   ]
  },
  {
   "cell_type": "code",
   "execution_count": 40,
   "metadata": {},
   "outputs": [],
   "source": [
    "# function syntax\n",
    "def awesum(): # def function_name(parameter):\n",
    "    pass # statements"
   ]
  },
  {
   "cell_type": "code",
   "execution_count": 41,
   "metadata": {},
   "outputs": [],
   "source": [
    "def awesum(num):\n",
    "    result = num + 1\n",
    "    return result"
   ]
  },
  {
   "cell_type": "code",
   "execution_count": 42,
   "metadata": {},
   "outputs": [
    {
     "data": {
      "text/plain": [
       "6"
      ]
     },
     "execution_count": 42,
     "metadata": {},
     "output_type": "execute_result"
    }
   ],
   "source": [
    "awesum(5)"
   ]
  },
  {
   "cell_type": "code",
   "execution_count": 43,
   "metadata": {},
   "outputs": [],
   "source": [
    "# num: parameter\n",
    "def awesum(num):\n",
    "    return num + 1 # You can return directly, if expression is short."
   ]
  },
  {
   "cell_type": "code",
   "execution_count": 44,
   "metadata": {},
   "outputs": [
    {
     "data": {
      "text/plain": [
       "11"
      ]
     },
     "execution_count": 44,
     "metadata": {},
     "output_type": "execute_result"
    }
   ],
   "source": [
    "# 10: argument\n",
    "awesum(10)"
   ]
  },
  {
   "cell_type": "code",
   "execution_count": 45,
   "metadata": {},
   "outputs": [
    {
     "data": {
      "text/plain": [
       "101"
      ]
     },
     "execution_count": 45,
     "metadata": {},
     "output_type": "execute_result"
    }
   ],
   "source": [
    "awesum(100)"
   ]
  },
  {
   "cell_type": "code",
   "execution_count": 46,
   "metadata": {},
   "outputs": [],
   "source": [
    "def print_fast(a):\n",
    "    print('fast {}'.format(a))\n",
    "\n",
    "def return_fast(a):\n",
    "    return 'fast {}'.format(a)"
   ]
  },
  {
   "cell_type": "code",
   "execution_count": 47,
   "metadata": {},
   "outputs": [
    {
     "name": "stdout",
     "output_type": "stream",
     "text": [
      "fast campus\n"
     ]
    }
   ],
   "source": [
    "print_fast('campus')"
   ]
  },
  {
   "cell_type": "code",
   "execution_count": 48,
   "metadata": {},
   "outputs": [
    {
     "data": {
      "text/plain": [
       "'fast campus'"
      ]
     },
     "execution_count": 48,
     "metadata": {},
     "output_type": "execute_result"
    }
   ],
   "source": [
    "return_fast('campus')"
   ]
  },
  {
   "cell_type": "code",
   "execution_count": 49,
   "metadata": {
    "scrolled": true
   },
   "outputs": [
    {
     "name": "stdout",
     "output_type": "stream",
     "text": [
      "fast campus\n",
      "None fast campus\n"
     ]
    }
   ],
   "source": [
    "result_1 = print_fast('campus')\n",
    "result_2 = return_fast('campus')\n",
    "print(result_1, result_2)"
   ]
  },
  {
   "cell_type": "code",
   "execution_count": 50,
   "metadata": {},
   "outputs": [],
   "source": [
    "def error_report():\n",
    "    err_code = 404\n",
    "    print(\"Error has detected(error code: {})\".format(err_code))\n",
    "    \n",
    "    return err_code"
   ]
  },
  {
   "cell_type": "code",
   "execution_count": 51,
   "metadata": {},
   "outputs": [
    {
     "name": "stdout",
     "output_type": "stream",
     "text": [
      "Error has detected(error code: 404)\n"
     ]
    },
    {
     "data": {
      "text/plain": [
       "404"
      ]
     },
     "execution_count": 51,
     "metadata": {},
     "output_type": "execute_result"
    }
   ],
   "source": [
    "error_report()"
   ]
  },
  {
   "cell_type": "code",
   "execution_count": 59,
   "metadata": {},
   "outputs": [],
   "source": [
    "from time import sleep, ctime\n",
    "\n",
    "\n",
    "def do_something():\n",
    "    print(\"{}\".format(ctime()))\n",
    "    print(\"I am doing something..\")\n",
    "    sleep(10)\n",
    "    print(\"I'm done\")"
   ]
  },
  {
   "cell_type": "code",
   "execution_count": 60,
   "metadata": {},
   "outputs": [
    {
     "name": "stdout",
     "output_type": "stream",
     "text": [
      "Wed Jan 27 14:19:31 2021\n",
      "I am doing something..\n",
      "I'm done\n"
     ]
    }
   ],
   "source": [
    "do_something()"
   ]
  },
  {
   "cell_type": "code",
   "execution_count": 64,
   "metadata": {},
   "outputs": [],
   "source": [
    "def check_id(user_id):\n",
    "    if user_id == 'admin':\n",
    "        print('YOU CAN NOT use this id: {}'.format(user_id))\n",
    "    elif user_id == 'exit':\n",
    "        return\n",
    "    else:\n",
    "        print(user_id)\n",
    "        return user_id"
   ]
  },
  {
   "cell_type": "code",
   "execution_count": 65,
   "metadata": {},
   "outputs": [
    {
     "name": "stdout",
     "output_type": "stream",
     "text": [
      "fastcampus\n"
     ]
    },
    {
     "data": {
      "text/plain": [
       "'fastcampus'"
      ]
     },
     "execution_count": 65,
     "metadata": {},
     "output_type": "execute_result"
    }
   ],
   "source": [
    "check_id('fastcampus')"
   ]
  },
  {
   "cell_type": "code",
   "execution_count": 66,
   "metadata": {},
   "outputs": [
    {
     "name": "stdout",
     "output_type": "stream",
     "text": [
      "YOU CAN NOT use this id: admin\n"
     ]
    }
   ],
   "source": [
    "check_id('admin')"
   ]
  },
  {
   "cell_type": "code",
   "execution_count": 67,
   "metadata": {},
   "outputs": [],
   "source": [
    "check_id('exit')"
   ]
  },
  {
   "cell_type": "code",
   "execution_count": 68,
   "metadata": {},
   "outputs": [],
   "source": [
    "def ask_name(user_name):\n",
    "    print('Hi, {}'.format(user_name))"
   ]
  },
  {
   "cell_type": "code",
   "execution_count": 69,
   "metadata": {},
   "outputs": [
    {
     "name": "stdout",
     "output_type": "stream",
     "text": [
      "Hi, fastcampus\n"
     ]
    }
   ],
   "source": [
    "ask_name('fastcampus')"
   ]
  },
  {
   "cell_type": "code",
   "execution_count": 72,
   "metadata": {},
   "outputs": [],
   "source": [
    "def ask_name(user_name='fcKim'):\n",
    "    print('Hi, {}'.format(user_name))"
   ]
  },
  {
   "cell_type": "code",
   "execution_count": 73,
   "metadata": {},
   "outputs": [
    {
     "name": "stdout",
     "output_type": "stream",
     "text": [
      "Hi, fcKim\n"
     ]
    }
   ],
   "source": [
    "ask_name()"
   ]
  },
  {
   "cell_type": "code",
   "execution_count": 78,
   "metadata": {},
   "outputs": [],
   "source": [
    "def ask_name(user_name='fcKim', status='Fool'):\n",
    "    print('Hi, {}. and you are {}.'.format(user_name, status))"
   ]
  },
  {
   "cell_type": "code",
   "execution_count": 79,
   "metadata": {},
   "outputs": [
    {
     "name": "stdout",
     "output_type": "stream",
     "text": [
      "Hi, fastcampus. and you are Fool.\n"
     ]
    }
   ],
   "source": [
    "ask_name('fastcampus')"
   ]
  },
  {
   "cell_type": "code",
   "execution_count": 80,
   "metadata": {},
   "outputs": [
    {
     "name": "stdout",
     "output_type": "stream",
     "text": [
      "Hi, fastcampus. and you are genius.\n"
     ]
    }
   ],
   "source": [
    "ask_name('fastcampus', 'genius')"
   ]
  },
  {
   "cell_type": "code",
   "execution_count": 81,
   "metadata": {},
   "outputs": [],
   "source": [
    "print?"
   ]
  },
  {
   "cell_type": "code",
   "execution_count": 84,
   "metadata": {},
   "outputs": [
    {
     "name": "stdout",
     "output_type": "stream",
     "text": [
      "fastcampus fastcampus fastcampus fastcampus fastcampus fastcampus fastcampus fastcampus fastcampus fastcampus "
     ]
    }
   ],
   "source": [
    "print('fast','campus', sep='campus fast', end=' ')\n",
    "print('fast','campus', sep='campus fast', end=' ')\n",
    "print('fast','campus', sep='campus fast', end=' ')\n",
    "print('fast','campus', sep='campus fast', end=' ')\n",
    "print('fast','campus', sep='campus fast', end=' ')"
   ]
  },
  {
   "cell_type": "code",
   "execution_count": 87,
   "metadata": {},
   "outputs": [
    {
     "name": "stdout",
     "output_type": "stream",
     "text": [
      "fast campus\n",
      "fastcampus fastcampus\n",
      "fastcampus fastcampus\n",
      "fastcampus fastcampus\n"
     ]
    }
   ],
   "source": [
    "print('fast','campus', sep=' ', end='\\n')\n",
    "print('fast','campus', sep='campus fast')\n",
    "print('fast','campus', sep='campus fast')\n",
    "print('fast','campus', sep='campus fast')"
   ]
  },
  {
   "cell_type": "code",
   "execution_count": 88,
   "metadata": {},
   "outputs": [],
   "source": [
    "print?"
   ]
  },
  {
   "cell_type": "code",
   "execution_count": 98,
   "metadata": {},
   "outputs": [],
   "source": [
    "#Arbitrary Arguments\n",
    "def print_(*value):\n",
    "    print(value,type(value))\n",
    "    for s in value:\n",
    "        print(s, end=' ')\n",
    "    print('\\n')"
   ]
  },
  {
   "cell_type": "code",
   "execution_count": 99,
   "metadata": {},
   "outputs": [
    {
     "name": "stdout",
     "output_type": "stream",
     "text": [
      "(1, 2, 3) <class 'tuple'>\n",
      "1 2 3 \n",
      "\n",
      "1 2 3\n"
     ]
    }
   ],
   "source": [
    "print_(1,2,3)\n",
    "print(1,2,3)"
   ]
  },
  {
   "cell_type": "code",
   "execution_count": 100,
   "metadata": {},
   "outputs": [],
   "source": [
    "#Keyword Arguments\n",
    "\n",
    "\n"
   ]
  },
  {
   "cell_type": "code",
   "execution_count": 102,
   "metadata": {},
   "outputs": [],
   "source": [
    "def get_user_info(user_name, real_name, **kwargs):\n",
    "    print(user_name)\n",
    "    print(real_name)\n",
    "    print(kwargs, type(kwargs))"
   ]
  },
  {
   "cell_type": "code",
   "execution_count": 103,
   "metadata": {},
   "outputs": [
    {
     "name": "stdout",
     "output_type": "stream",
     "text": [
      "fcKim\n",
      "Fastcampus Kim\n",
      "{'phone': '821011112222', 'locale': 'Seoul, KR'} <class 'dict'>\n"
     ]
    }
   ],
   "source": [
    "get_user_info('fcKim',\n",
    "              'Fastcampus Kim',\n",
    "              phone='821011112222',\n",
    "              locale='Seoul, KR'\n",
    ")"
   ]
  },
  {
   "cell_type": "code",
   "execution_count": 108,
   "metadata": {},
   "outputs": [],
   "source": [
    "def get_user_info(**kwargs):\n",
    "    print(kwargs, type(kwargs))\n",
    "    for k,v in kwargs.items():\n",
    "        print('{}: {}'.format(k,v))\n",
    "    print('Your phone_num is {}'.format(kwargs['phone']))"
   ]
  },
  {
   "cell_type": "code",
   "execution_count": 109,
   "metadata": {},
   "outputs": [
    {
     "name": "stdout",
     "output_type": "stream",
     "text": [
      "{'name': 'Fastcampus Kim', 'user_name': 'fckim', 'phone': '821023456543', 'locale': 'Seoul, KR'} <class 'dict'>\n",
      "name: Fastcampus Kim\n",
      "user_name: fckim\n",
      "phone: 821023456543\n",
      "locale: Seoul, KR\n",
      "Your phone_num is 821023456543\n"
     ]
    }
   ],
   "source": [
    "get_user_info(name='Fastcampus Kim',\n",
    "              user_name='fckim',\n",
    "              phone='821023456543',\n",
    "              locale='Seoul, KR')"
   ]
  },
  {
   "cell_type": "code",
   "execution_count": null,
   "metadata": {},
   "outputs": [],
   "source": [
    "# domain name('www.google.com' naver daum)\n",
    "# path admin.html\n",
    "# query string\n",
    "# ex) complete_uri('www.google.com',\n",
    "#         utm_source='social',\n",
    "#         utm_medium='campaign')\n",
    "# https://www.google.com/admin.html?utm_source=social&utm_medium=campaign"
   ]
  },
  {
   "cell_type": "code",
   "execution_count": 129,
   "metadata": {},
   "outputs": [],
   "source": [
    "def complete_uri(hostname, **query):\n",
    "    \"\"\"\n",
    "    return complete uri with querystring.\n",
    "    protocol is https://\n",
    "    querystring is starts with ?\n",
    "    and keywords are splited by &\n",
    "    \"\"\"\n",
    "    url = 'https://{}/admin.html'.format(hostname)\n",
    "    if not query:\n",
    "        return url\n",
    "    else:\n",
    "        query_string = '?'\n",
    "        for k,v in query.items():\n",
    "            query_string += '{}={}&'.format(k,v)\n",
    "        query_string = query_string[:-1]\n",
    "    print(url)\n",
    "    print(query_string)\n",
    "    return url + query_string"
   ]
  },
  {
   "cell_type": "code",
   "execution_count": 130,
   "metadata": {},
   "outputs": [
    {
     "name": "stdout",
     "output_type": "stream",
     "text": [
      "https://www.google.com/admin.html\n",
      "?utm_source=social&utm_medium=campaign\n"
     ]
    },
    {
     "data": {
      "text/plain": [
       "'https://www.google.com/admin.html?utm_source=social&utm_medium=campaign'"
      ]
     },
     "execution_count": 130,
     "metadata": {},
     "output_type": "execute_result"
    }
   ],
   "source": [
    "complete_uri('www.google.com',\n",
    "            utm_source='social',\n",
    "            utm_medium='campaign')"
   ]
  },
  {
   "cell_type": "code",
   "execution_count": 114,
   "metadata": {},
   "outputs": [
    {
     "name": "stdout",
     "output_type": "stream",
     "text": [
      "a\n",
      "b\n",
      "c\n",
      "d\n",
      "e\n"
     ]
    }
   ],
   "source": [
    "def foo(*args):\n",
    "    #print(a)\n",
    "    #print(b)\n",
    "    for s in args:\n",
    "        print(s)\n",
    "foo('a','b','c','d','e')"
   ]
  },
  {
   "cell_type": "code",
   "execution_count": 115,
   "metadata": {},
   "outputs": [],
   "source": [
    "foo()"
   ]
  },
  {
   "cell_type": "code",
   "execution_count": 116,
   "metadata": {},
   "outputs": [
    {
     "data": {
      "text/plain": [
       "'\\na\\nb\\n'"
      ]
     },
     "execution_count": 116,
     "metadata": {},
     "output_type": "execute_result"
    }
   ],
   "source": [
    "some_words = \"\"\"\n",
    "a\n",
    "b\n",
    "\"\"\"\n",
    "some_words"
   ]
  },
  {
   "cell_type": "code",
   "execution_count": 134,
   "metadata": {},
   "outputs": [],
   "source": [
    "def complete_uri(hostname,protocol='https',**query):\n",
    "    \"\"\"\n",
    "    return complete uri with querystring.\n",
    "    protocol is https://\n",
    "    querystring is starts with ?\n",
    "    and keywords are splited by &\n",
    "    \"\"\"\n",
    "    url = '{}://{}/admin.html'.format(protocol, hostname)\n",
    "    if not query:\n",
    "        return url\n",
    "    else:\n",
    "        query_string = '?'\n",
    "        for k,v in query.items():\n",
    "            query_string += '{}={}&'.format(k,v)\n",
    "        query_string = query_string[:-1]\n",
    "    print(url)\n",
    "    print(query_string)\n",
    "    return url + query_string"
   ]
  },
  {
   "cell_type": "code",
   "execution_count": 138,
   "metadata": {},
   "outputs": [
    {
     "name": "stdout",
     "output_type": "stream",
     "text": [
      "sftp://www.google.com/admin.html\n",
      "?utm_source=social&utm_medium=campaign\n"
     ]
    },
    {
     "data": {
      "text/plain": [
       "'sftp://www.google.com/admin.html?utm_source=social&utm_medium=campaign'"
      ]
     },
     "execution_count": 138,
     "metadata": {},
     "output_type": "execute_result"
    }
   ],
   "source": [
    "complete_uri('www.google.com',\n",
    "             'sftp',\n",
    "            utm_source='social',\n",
    "            utm_medium='campaign')"
   ]
  },
  {
   "cell_type": "code",
   "execution_count": 141,
   "metadata": {},
   "outputs": [],
   "source": [
    "def print_(*args, **kwargs):\n",
    "    for arg in args:\n",
    "        print(arg)\n",
    "    for k,v in kwargs.items():\n",
    "        print('{}={}'.format(k,v))"
   ]
  },
  {
   "cell_type": "code",
   "execution_count": 143,
   "metadata": {},
   "outputs": [
    {
     "ename": "SyntaxError",
     "evalue": "positional argument follows keyword argument (<ipython-input-143-f8086118c5b9>, line 1)",
     "output_type": "error",
     "traceback": [
      "\u001b[0;36m  File \u001b[0;32m\"<ipython-input-143-f8086118c5b9>\"\u001b[0;36m, line \u001b[0;32m1\u001b[0m\n\u001b[0;31m    print_(1,2,d=4,3,4,a=1,b=2,5,6,c=4)\u001b[0m\n\u001b[0m                                ^\u001b[0m\n\u001b[0;31mSyntaxError\u001b[0m\u001b[0;31m:\u001b[0m positional argument follows keyword argument\n"
     ]
    }
   ],
   "source": [
    "print_(1,2,d=4,3,4,a=1,b=2,5,6,c=4)"
   ]
  },
  {
   "cell_type": "code",
   "execution_count": 144,
   "metadata": {},
   "outputs": [],
   "source": [
    "# global, local\n",
    "x = 1\n",
    "def awesum(a,b):\n",
    "    x = a + b + 1\n",
    "    return x"
   ]
  },
  {
   "cell_type": "code",
   "execution_count": 145,
   "metadata": {},
   "outputs": [
    {
     "data": {
      "text/plain": [
       "1"
      ]
     },
     "execution_count": 145,
     "metadata": {},
     "output_type": "execute_result"
    }
   ],
   "source": [
    "x"
   ]
  },
  {
   "cell_type": "code",
   "execution_count": 146,
   "metadata": {},
   "outputs": [
    {
     "data": {
      "text/plain": [
       "4"
      ]
     },
     "execution_count": 146,
     "metadata": {},
     "output_type": "execute_result"
    }
   ],
   "source": [
    "awesum(1,2)"
   ]
  },
  {
   "cell_type": "code",
   "execution_count": 147,
   "metadata": {},
   "outputs": [
    {
     "data": {
      "text/plain": [
       "1"
      ]
     },
     "execution_count": 147,
     "metadata": {},
     "output_type": "execute_result"
    }
   ],
   "source": [
    "x"
   ]
  },
  {
   "cell_type": "code",
   "execution_count": 148,
   "metadata": {},
   "outputs": [
    {
     "name": "stdout",
     "output_type": "stream",
     "text": [
      "4\n"
     ]
    }
   ],
   "source": [
    "# Better case\n",
    "\n",
    "x = 1\n",
    "def awesum(a,b):\n",
    "    x = a + b + 1\n",
    "    return x\n",
    "x = awesum(1,2)\n",
    "print(x)"
   ]
  },
  {
   "cell_type": "code",
   "execution_count": 149,
   "metadata": {},
   "outputs": [
    {
     "name": "stdout",
     "output_type": "stream",
     "text": [
      "1\n",
      "8\n"
     ]
    }
   ],
   "source": [
    "# Don't try this at home.\n",
    "x = 1\n",
    "print(x)\n",
    "def awesum(a,b):\n",
    "    global x\n",
    "    x = a + b + 1\n",
    "    return x\n",
    "awesum(3,4)\n",
    "print(x)"
   ]
  },
  {
   "cell_type": "code",
   "execution_count": 151,
   "metadata": {},
   "outputs": [
    {
     "ename": "NameError",
     "evalue": "name 'z' is not defined",
     "output_type": "error",
     "traceback": [
      "\u001b[0;31m---------------------------------------------------------------------------\u001b[0m",
      "\u001b[0;31mNameError\u001b[0m                                 Traceback (most recent call last)",
      "\u001b[0;32m<ipython-input-151-ac9abaa2d82d>\u001b[0m in \u001b[0;36m<module>\u001b[0;34m\u001b[0m\n\u001b[1;32m      2\u001b[0m     \u001b[0;32mglobal\u001b[0m \u001b[0mz\u001b[0m\u001b[0;34m\u001b[0m\u001b[0;34m\u001b[0m\u001b[0m\n\u001b[1;32m      3\u001b[0m     \u001b[0;32mreturn\u001b[0m \u001b[0mz\u001b[0m\u001b[0;34m\u001b[0m\u001b[0;34m\u001b[0m\u001b[0m\n\u001b[0;32m----> 4\u001b[0;31m \u001b[0mawesum\u001b[0m\u001b[0;34m(\u001b[0m\u001b[0;36m3\u001b[0m\u001b[0;34m,\u001b[0m\u001b[0;36m4\u001b[0m\u001b[0;34m)\u001b[0m\u001b[0;34m\u001b[0m\u001b[0;34m\u001b[0m\u001b[0m\n\u001b[0m\u001b[1;32m      5\u001b[0m \u001b[0mprint\u001b[0m\u001b[0;34m(\u001b[0m\u001b[0mz\u001b[0m\u001b[0;34m)\u001b[0m\u001b[0;34m\u001b[0m\u001b[0;34m\u001b[0m\u001b[0m\n",
      "\u001b[0;32m<ipython-input-151-ac9abaa2d82d>\u001b[0m in \u001b[0;36mawesum\u001b[0;34m(a, b)\u001b[0m\n\u001b[1;32m      1\u001b[0m \u001b[0;32mdef\u001b[0m \u001b[0mawesum\u001b[0m\u001b[0;34m(\u001b[0m\u001b[0ma\u001b[0m\u001b[0;34m,\u001b[0m\u001b[0mb\u001b[0m\u001b[0;34m)\u001b[0m\u001b[0;34m:\u001b[0m\u001b[0;34m\u001b[0m\u001b[0;34m\u001b[0m\u001b[0m\n\u001b[1;32m      2\u001b[0m     \u001b[0;32mglobal\u001b[0m \u001b[0mz\u001b[0m\u001b[0;34m\u001b[0m\u001b[0;34m\u001b[0m\u001b[0m\n\u001b[0;32m----> 3\u001b[0;31m     \u001b[0;32mreturn\u001b[0m \u001b[0mz\u001b[0m\u001b[0;34m\u001b[0m\u001b[0;34m\u001b[0m\u001b[0m\n\u001b[0m\u001b[1;32m      4\u001b[0m \u001b[0mawesum\u001b[0m\u001b[0;34m(\u001b[0m\u001b[0;36m3\u001b[0m\u001b[0;34m,\u001b[0m\u001b[0;36m4\u001b[0m\u001b[0;34m)\u001b[0m\u001b[0;34m\u001b[0m\u001b[0;34m\u001b[0m\u001b[0m\n\u001b[1;32m      5\u001b[0m \u001b[0mprint\u001b[0m\u001b[0;34m(\u001b[0m\u001b[0mz\u001b[0m\u001b[0;34m)\u001b[0m\u001b[0;34m\u001b[0m\u001b[0;34m\u001b[0m\u001b[0m\n",
      "\u001b[0;31mNameError\u001b[0m: name 'z' is not defined"
     ]
    }
   ],
   "source": [
    "def awesum(a,b):\n",
    "    global z\n",
    "    return z\n",
    "awesum(3,4)\n",
    "print(z)"
   ]
  },
  {
   "cell_type": "markdown",
   "metadata": {},
   "source": [
    "## Practice\n",
    "\n",
    "### Leap year\n",
    "사용자로 부터 연도(0~9999 사이의 정수)를 입력 받아\n",
    "\n",
    "4로 나뉘어 떨어지면 윤년,\n",
    "\n",
    "100으로 나뉘어 떨어지면 평년,\n",
    "\n",
    "400으로 나뉘어 떨어질땐 윤년\n",
    "\n",
    "을 출력하는 함수를 작성하시오"
   ]
  },
  {
   "cell_type": "code",
   "execution_count": 154,
   "metadata": {},
   "outputs": [],
   "source": [
    "def is_leap(year):\n",
    "    if year %400==0:\n",
    "        return \"Leap year\"\n",
    "    elif year%100==0:\n",
    "        return \"Plain year\"\n",
    "    elif year%4==0:\n",
    "        return \"Leap year\"\n",
    "    else:\n",
    "        return \"Plain year\"\n"
   ]
  },
  {
   "cell_type": "code",
   "execution_count": 158,
   "metadata": {},
   "outputs": [
    {
     "data": {
      "text/plain": [
       "'Leap year'"
      ]
     },
     "execution_count": 158,
     "metadata": {},
     "output_type": "execute_result"
    }
   ],
   "source": [
    "is_leap(2104)"
   ]
  },
  {
   "cell_type": "code",
   "execution_count": 159,
   "metadata": {},
   "outputs": [],
   "source": [
    "def is_leap(year):\n",
    "    if year%4==0 and (year%100!=0 or year%400==0):\n",
    "        return \"Leap year\"\n",
    "    else:\n",
    "        return \"Plain year\""
   ]
  },
  {
   "cell_type": "code",
   "execution_count": 163,
   "metadata": {},
   "outputs": [
    {
     "data": {
      "text/plain": [
       "'Leap year'"
      ]
     },
     "execution_count": 163,
     "metadata": {},
     "output_type": "execute_result"
    }
   ],
   "source": [
    "is_leap(2104)"
   ]
  },
  {
   "cell_type": "code",
   "execution_count": 165,
   "metadata": {},
   "outputs": [
    {
     "name": "stdout",
     "output_type": "stream",
     "text": [
      "How many times do you want to curse? 10\n",
      "10 <class 'int'>\n"
     ]
    }
   ],
   "source": [
    "times_to_curse = int(input(\"How many times do you want to curse? \"))\n",
    "print(times_to_curse, type(times_to_curse))"
   ]
  },
  {
   "cell_type": "code",
   "execution_count": 168,
   "metadata": {},
   "outputs": [],
   "source": [
    "def recurse_to_beast(num):\n",
    "    print('Abracadabra')\n",
    "    print('Curse has no effect. {} times left.'.format(num-1))\n",
    "    if num == 1:\n",
    "        return \"Beast is now dead\"\n",
    "    return recurse_to_beast(num-1)"
   ]
  },
  {
   "cell_type": "code",
   "execution_count": 169,
   "metadata": {},
   "outputs": [
    {
     "name": "stdout",
     "output_type": "stream",
     "text": [
      "Abracadabra\n",
      "Curse has no effect. 9 times left.\n",
      "Abracadabra\n",
      "Curse has no effect. 8 times left.\n",
      "Abracadabra\n",
      "Curse has no effect. 7 times left.\n",
      "Abracadabra\n",
      "Curse has no effect. 6 times left.\n",
      "Abracadabra\n",
      "Curse has no effect. 5 times left.\n",
      "Abracadabra\n",
      "Curse has no effect. 4 times left.\n",
      "Abracadabra\n",
      "Curse has no effect. 3 times left.\n",
      "Abracadabra\n",
      "Curse has no effect. 2 times left.\n",
      "Abracadabra\n",
      "Curse has no effect. 1 times left.\n",
      "Abracadabra\n",
      "Curse has no effect. 0 times left.\n"
     ]
    },
    {
     "data": {
      "text/plain": [
       "'Beast is now dead'"
      ]
     },
     "execution_count": 169,
     "metadata": {},
     "output_type": "execute_result"
    }
   ],
   "source": [
    "recurse_to_beast(times_to_curse)"
   ]
  },
  {
   "cell_type": "markdown",
   "metadata": {},
   "source": [
    "## Fibonacci Sequence\n",
    "\n",
    "$$\n",
    "F_{n} = \n",
    "\\begin{cases}\n",
    "0 & n=0\\\\\n",
    "1 & n=1\\\\\n",
    "F_{n-1} + F_{n-2} & n>1\n",
    "\\end{cases}\n",
    "$$"
   ]
  },
  {
   "cell_type": "code",
   "execution_count": 170,
   "metadata": {},
   "outputs": [],
   "source": [
    "def fibo(n):\n",
    "    if n < 2:\n",
    "        return n\n",
    "    else:\n",
    "        return fibo(n-1) + fibo(n-2)"
   ]
  },
  {
   "cell_type": "code",
   "execution_count": 171,
   "metadata": {},
   "outputs": [
    {
     "data": {
      "text/plain": [
       "1"
      ]
     },
     "execution_count": 171,
     "metadata": {},
     "output_type": "execute_result"
    }
   ],
   "source": [
    "fibo(1)"
   ]
  },
  {
   "cell_type": "code",
   "execution_count": 172,
   "metadata": {},
   "outputs": [
    {
     "data": {
      "text/plain": [
       "0"
      ]
     },
     "execution_count": 172,
     "metadata": {},
     "output_type": "execute_result"
    }
   ],
   "source": [
    "fibo(0)"
   ]
  },
  {
   "cell_type": "code",
   "execution_count": 194,
   "metadata": {},
   "outputs": [
    {
     "data": {
      "text/plain": [
       "2"
      ]
     },
     "execution_count": 194,
     "metadata": {},
     "output_type": "execute_result"
    }
   ],
   "source": [
    "fibo(3)"
   ]
  },
  {
   "cell_type": "markdown",
   "metadata": {},
   "source": [
    "### Binet's Fibonacci formula\n",
    "\n",
    "$$\n",
    "F_{n} = \\frac{(1+\\sqrt5)^{n}-(1-\\sqrt5)^{n}}{2^{n}\\sqrt5}\n",
    "$$"
   ]
  },
  {
   "cell_type": "code",
   "execution_count": 183,
   "metadata": {},
   "outputs": [],
   "source": [
    "from math import sqrt"
   ]
  },
  {
   "cell_type": "code",
   "execution_count": 184,
   "metadata": {},
   "outputs": [
    {
     "data": {
      "text/plain": [
       "2.23606797749979"
      ]
     },
     "execution_count": 184,
     "metadata": {},
     "output_type": "execute_result"
    }
   ],
   "source": [
    "sqrt(5)"
   ]
  },
  {
   "cell_type": "code",
   "execution_count": 195,
   "metadata": {},
   "outputs": [],
   "source": [
    "def binet(n):\n",
    "    return int(((1+sqrt(5))**n - (1-sqrt(5))**n) / (2**n*sqrt(5)))"
   ]
  },
  {
   "cell_type": "code",
   "execution_count": 196,
   "metadata": {},
   "outputs": [
    {
     "data": {
      "text/plain": [
       "2"
      ]
     },
     "execution_count": 196,
     "metadata": {},
     "output_type": "execute_result"
    }
   ],
   "source": [
    "binet(3)"
   ]
  },
  {
   "cell_type": "code",
   "execution_count": 203,
   "metadata": {},
   "outputs": [
    {
     "name": "stdout",
     "output_type": "stream",
     "text": [
      "3.1557810306549072\n"
     ]
    }
   ],
   "source": [
    "from time import time\n",
    "\n",
    "f_start_time = time()\n",
    "\n",
    "fibo(35)\n",
    "f_end_time = time()\n",
    "fibo_time = f_end_time - f_start_time\n",
    "print(fibo_time)"
   ]
  },
  {
   "cell_type": "code",
   "execution_count": 204,
   "metadata": {},
   "outputs": [
    {
     "name": "stdout",
     "output_type": "stream",
     "text": [
      "6.29425048828125e-05\n"
     ]
    }
   ],
   "source": [
    "b_start_time = time()\n",
    "binet(35)\n",
    "b_end_time = time()\n",
    "binet_time = b_end_time - b_start_time\n",
    "print(binet_time)"
   ]
  },
  {
   "cell_type": "code",
   "execution_count": null,
   "metadata": {},
   "outputs": [],
   "source": []
  }
 ],
 "metadata": {
  "kernelspec": {
   "display_name": "Python 3",
   "language": "python",
   "name": "python3"
  },
  "language_info": {
   "codemirror_mode": {
    "name": "ipython",
    "version": 3
   },
   "file_extension": ".py",
   "mimetype": "text/x-python",
   "name": "python",
   "nbconvert_exporter": "python",
   "pygments_lexer": "ipython3",
   "version": "3.9.0"
  }
 },
 "nbformat": 4,
 "nbformat_minor": 4
}
